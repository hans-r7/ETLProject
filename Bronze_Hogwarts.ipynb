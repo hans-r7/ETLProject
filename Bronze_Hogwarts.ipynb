{
 "cells": [
  {
   "cell_type": "markdown",
   "metadata": {},
   "source": [
    "## 🥉 Bronze Layer"
   ]
  },
  {
   "cell_type": "markdown",
   "metadata": {},
   "source": [
    "### 🔧 Import Functions "
   ]
  },
  {
   "cell_type": "code",
   "execution_count": 1,
   "metadata": {},
   "outputs": [],
   "source": [
    "import pandas as pd\n",
    "import datetime\n",
    "import os"
   ]
  },
  {
   "cell_type": "markdown",
   "metadata": {},
   "source": [
    "### ⚙️ Setup the Variables"
   ]
  },
  {
   "cell_type": "code",
   "execution_count": 2,
   "metadata": {},
   "outputs": [
    {
     "name": "stdout",
     "output_type": "stream",
     "text": [
      "File Path: c:\\Users\\Hans\\OneDrive\\Documents\\CSULB\\Sem 1\\640 Python\\ETL\n",
      "Folder Path: c:\\Users\\Hans\\OneDrive\\Documents\\CSULB\\Sem 1\\640 Python\\ETL\\Hogwarts_Student_Data\n"
     ]
    }
   ],
   "source": [
    "cwd = os.getcwd()\n",
    "print(f'File Path: {cwd}')\n",
    "\n",
    "folder = 'Hogwarts_Student_Data'\n",
    "\n",
    "data_path = os.path.join(cwd, folder)\n",
    "print(f'Folder Path: {data_path}')"
   ]
  },
  {
   "cell_type": "markdown",
   "metadata": {},
   "source": [
    "### 📂 Retrieve All Files from the Folder"
   ]
  },
  {
   "cell_type": "code",
   "execution_count": 3,
   "metadata": {},
   "outputs": [
    {
     "name": "stdout",
     "output_type": "stream",
     "text": [
      "Hogwarts_Student_Data_20240101.csv\n",
      "Hogwarts_Student_Data_20240201.csv\n",
      "Hogwarts_Student_Data_20240301.csv\n",
      "Hogwarts_Student_Data_20240401.csv\n",
      "Hogwarts_Student_Data_20240501.csv\n",
      "Hogwarts_Student_Data_20240601.csv\n"
     ]
    }
   ],
   "source": [
    "folder_files = os.listdir(data_path)\n",
    "for file in folder_files:\n",
    "    print(file)"
   ]
  },
  {
   "cell_type": "markdown",
   "metadata": {},
   "source": [
    "### 🧐 Preview the First 5 Rows of the First CSV File"
   ]
  },
  {
   "cell_type": "code",
   "execution_count": 4,
   "metadata": {},
   "outputs": [
    {
     "data": {
      "text/html": [
       "<div>\n",
       "<style scoped>\n",
       "    .dataframe tbody tr th:only-of-type {\n",
       "        vertical-align: middle;\n",
       "    }\n",
       "\n",
       "    .dataframe tbody tr th {\n",
       "        vertical-align: top;\n",
       "    }\n",
       "\n",
       "    .dataframe thead th {\n",
       "        text-align: right;\n",
       "    }\n",
       "</style>\n",
       "<table border=\"1\" class=\"dataframe\">\n",
       "  <thead>\n",
       "    <tr style=\"text-align: right;\">\n",
       "      <th></th>\n",
       "      <th>Student Name</th>\n",
       "      <th>House</th>\n",
       "      <th>Year</th>\n",
       "      <th>Wand Type</th>\n",
       "      <th>Pet</th>\n",
       "      <th>Potions Grade</th>\n",
       "      <th>Defense Against the Dark Arts Grade</th>\n",
       "      <th>Transfiguration Grade</th>\n",
       "      <th>Spells Learned</th>\n",
       "      <th>Quidditch Position</th>\n",
       "      <th>Points Earned for House</th>\n",
       "      <th>Detentions</th>\n",
       "      <th>Participation in Dueling Club</th>\n",
       "      <th>Triwizard Tournament Involvement</th>\n",
       "      <th>Items Owned</th>\n",
       "      <th>Knuts Spent in Hogsmeade</th>\n",
       "      <th>Attendance at Classes</th>\n",
       "      <th>Magical Accidents</th>\n",
       "    </tr>\n",
       "  </thead>\n",
       "  <tbody>\n",
       "    <tr>\n",
       "      <th>0</th>\n",
       "      <td>Seamus Potter</td>\n",
       "      <td>Slytherin</td>\n",
       "      <td>2</td>\n",
       "      <td>9 inches, elm, veela hair core</td>\n",
       "      <td>Dragon</td>\n",
       "      <td>Outstanding</td>\n",
       "      <td>Exceeds Expectations</td>\n",
       "      <td>Outstanding</td>\n",
       "      <td>26</td>\n",
       "      <td>Beater</td>\n",
       "      <td>-100</td>\n",
       "      <td>3</td>\n",
       "      <td>No</td>\n",
       "      <td>No</td>\n",
       "      <td>Time-Turner, Marauder's Map</td>\n",
       "      <td>88</td>\n",
       "      <td>74</td>\n",
       "      <td>5</td>\n",
       "    </tr>\n",
       "    <tr>\n",
       "      <th>1</th>\n",
       "      <td>Ginny Spinnet</td>\n",
       "      <td>Gryffindor</td>\n",
       "      <td>6</td>\n",
       "      <td>9 inches, elm, veela hair core</td>\n",
       "      <td>Cat</td>\n",
       "      <td>Exceeds Expectations</td>\n",
       "      <td>Acceptable</td>\n",
       "      <td>Outstanding</td>\n",
       "      <td>11</td>\n",
       "      <td>Chaser</td>\n",
       "      <td>139</td>\n",
       "      <td>2</td>\n",
       "      <td>No</td>\n",
       "      <td>No</td>\n",
       "      <td>Firebolt, Sneakoscope, Extendable Ears</td>\n",
       "      <td>99</td>\n",
       "      <td>67</td>\n",
       "      <td>6</td>\n",
       "    </tr>\n",
       "    <tr>\n",
       "      <th>2</th>\n",
       "      <td>Padma Parkinson</td>\n",
       "      <td>Gryffindor</td>\n",
       "      <td>4</td>\n",
       "      <td>11 inches, holly, phoenix feather core</td>\n",
       "      <td>Muggle Born</td>\n",
       "      <td>Outstanding</td>\n",
       "      <td>Acceptable</td>\n",
       "      <td>Outstanding</td>\n",
       "      <td>19</td>\n",
       "      <td>Seeker</td>\n",
       "      <td>93</td>\n",
       "      <td>2</td>\n",
       "      <td>No</td>\n",
       "      <td>No</td>\n",
       "      <td>Invisibility Cloak</td>\n",
       "      <td>342</td>\n",
       "      <td>88</td>\n",
       "      <td>6</td>\n",
       "    </tr>\n",
       "    <tr>\n",
       "      <th>3</th>\n",
       "      <td>NaN</td>\n",
       "      <td>Ravenclaw</td>\n",
       "      <td>1</td>\n",
       "      <td>12 inches, yew, unicorn hair core</td>\n",
       "      <td>Toad</td>\n",
       "      <td>Exceeds Expectations</td>\n",
       "      <td>Exceeds Expectations</td>\n",
       "      <td>Exceeds Expectations</td>\n",
       "      <td>16</td>\n",
       "      <td>Seeker</td>\n",
       "      <td>-73</td>\n",
       "      <td>2</td>\n",
       "      <td>No</td>\n",
       "      <td>NaN</td>\n",
       "      <td>Time-Turner</td>\n",
       "      <td>233</td>\n",
       "      <td>45</td>\n",
       "      <td>5</td>\n",
       "    </tr>\n",
       "    <tr>\n",
       "      <th>4</th>\n",
       "      <td>NaN</td>\n",
       "      <td>Ravenclaw</td>\n",
       "      <td>1</td>\n",
       "      <td>10 inches, oak, dragon heartstring core</td>\n",
       "      <td>Owl</td>\n",
       "      <td>NaN</td>\n",
       "      <td>Outstanding</td>\n",
       "      <td>Exceeds Expectations</td>\n",
       "      <td>9</td>\n",
       "      <td>Keeper</td>\n",
       "      <td>90</td>\n",
       "      <td>0</td>\n",
       "      <td>No</td>\n",
       "      <td>Yes</td>\n",
       "      <td>Marauder's Map, Sneakoscope</td>\n",
       "      <td>473</td>\n",
       "      <td>27</td>\n",
       "      <td>7</td>\n",
       "    </tr>\n",
       "  </tbody>\n",
       "</table>\n",
       "</div>"
      ],
      "text/plain": [
       "      Student Name       House  Year                                Wand Type  \\\n",
       "0    Seamus Potter   Slytherin     2           9 inches, elm, veela hair core   \n",
       "1    Ginny Spinnet  Gryffindor     6           9 inches, elm, veela hair core   \n",
       "2  Padma Parkinson  Gryffindor     4   11 inches, holly, phoenix feather core   \n",
       "3              NaN   Ravenclaw     1        12 inches, yew, unicorn hair core   \n",
       "4              NaN   Ravenclaw     1  10 inches, oak, dragon heartstring core   \n",
       "\n",
       "           Pet         Potions Grade Defense Against the Dark Arts Grade  \\\n",
       "0       Dragon           Outstanding                Exceeds Expectations   \n",
       "1          Cat  Exceeds Expectations                          Acceptable   \n",
       "2  Muggle Born           Outstanding                          Acceptable   \n",
       "3         Toad  Exceeds Expectations                Exceeds Expectations   \n",
       "4          Owl                   NaN                         Outstanding   \n",
       "\n",
       "  Transfiguration Grade  Spells Learned Quidditch Position  \\\n",
       "0           Outstanding              26             Beater   \n",
       "1           Outstanding              11             Chaser   \n",
       "2           Outstanding              19             Seeker   \n",
       "3  Exceeds Expectations              16             Seeker   \n",
       "4  Exceeds Expectations               9             Keeper   \n",
       "\n",
       "   Points Earned for House  Detentions Participation in Dueling Club  \\\n",
       "0                     -100           3                            No   \n",
       "1                      139           2                            No   \n",
       "2                       93           2                            No   \n",
       "3                      -73           2                            No   \n",
       "4                       90           0                            No   \n",
       "\n",
       "  Triwizard Tournament Involvement                             Items Owned  \\\n",
       "0                               No             Time-Turner, Marauder's Map   \n",
       "1                               No  Firebolt, Sneakoscope, Extendable Ears   \n",
       "2                               No                      Invisibility Cloak   \n",
       "3                              NaN                             Time-Turner   \n",
       "4                              Yes             Marauder's Map, Sneakoscope   \n",
       "\n",
       "   Knuts Spent in Hogsmeade  Attendance at Classes  Magical Accidents  \n",
       "0                        88                     74                  5  \n",
       "1                        99                     67                  6  \n",
       "2                       342                     88                  6  \n",
       "3                       233                     45                  5  \n",
       "4                       473                     27                  7  "
      ]
     },
     "execution_count": 4,
     "metadata": {},
     "output_type": "execute_result"
    }
   ],
   "source": [
    "df_1 = pd.read_csv(os.path.join(data_path, 'Hogwarts_Student_Data_20240101.csv'))\n",
    "\n",
    "df_1.head()"
   ]
  },
  {
   "cell_type": "markdown",
   "metadata": {},
   "source": [
    "### 🗃️ Combine All the CSV Files"
   ]
  },
  {
   "cell_type": "code",
   "execution_count": 5,
   "metadata": {},
   "outputs": [
    {
     "name": "stdout",
     "output_type": "stream",
     "text": [
      "Reading File: Hogwarts_Student_Data_20240101.csv\n",
      "Reading File: Hogwarts_Student_Data_20240201.csv\n",
      "Reading File: Hogwarts_Student_Data_20240301.csv\n",
      "Reading File: Hogwarts_Student_Data_20240401.csv\n",
      "Reading File: Hogwarts_Student_Data_20240501.csv\n",
      "Reading File: Hogwarts_Student_Data_20240601.csv\n",
      "All Files Read!✅\n"
     ]
    }
   ],
   "source": [
    "df_list = []\n",
    "\n",
    "for file in folder_files:\n",
    "    print(f'Reading File: {file}')\n",
    "    df = pd.read_csv(os.path.join(data_path, file))\n",
    "    df[\"fileName\"] = file\n",
    "    df[\"loadDateTimeStamp\"] = datetime.datetime.now()\n",
    "    df_list.append(df)\n",
    "    \n",
    "df = pd.concat(df_list, ignore_index=True)\n",
    "print(\"All Files Read!✅\")\n"
   ]
  },
  {
   "cell_type": "markdown",
   "metadata": {},
   "source": [
    "### 🛠️ Data Overview and Validation "
   ]
  },
  {
   "cell_type": "code",
   "execution_count": 6,
   "metadata": {},
   "outputs": [
    {
     "name": "stdout",
     "output_type": "stream",
     "text": [
      "<class 'pandas.core.frame.DataFrame'>\n",
      "RangeIndex: 48000 entries, 0 to 47999\n",
      "Data columns (total 20 columns):\n",
      " #   Column                               Non-Null Count  Dtype         \n",
      "---  ------                               --------------  -----         \n",
      " 0   Student Name                         34560 non-null  object        \n",
      " 1   House                                44000 non-null  object        \n",
      " 2   Year                                 48000 non-null  int64         \n",
      " 3   Wand Type                            48000 non-null  object        \n",
      " 4   Pet                                  40054 non-null  object        \n",
      " 5   Potions Grade                        44560 non-null  object        \n",
      " 6   Defense Against the Dark Arts Grade  48000 non-null  object        \n",
      " 7   Transfiguration Grade                48000 non-null  object        \n",
      " 8   Spells Learned                       48000 non-null  int64         \n",
      " 9   Quidditch Position                   38496 non-null  object        \n",
      " 10  Points Earned for House              48000 non-null  int64         \n",
      " 11  Detentions                           48000 non-null  int64         \n",
      " 12  Participation in Dueling Club        48000 non-null  object        \n",
      " 13  Triwizard Tournament Involvement     42080 non-null  object        \n",
      " 14  Items Owned                          48000 non-null  object        \n",
      " 15  Knuts Spent in Hogsmeade             48000 non-null  int64         \n",
      " 16  Attendance at Classes                48000 non-null  int64         \n",
      " 17  Magical Accidents                    48000 non-null  int64         \n",
      " 18  fileName                             48000 non-null  object        \n",
      " 19  loadDateTimeStamp                    48000 non-null  datetime64[ns]\n",
      "dtypes: datetime64[ns](1), int64(7), object(12)\n",
      "memory usage: 7.3+ MB\n"
     ]
    }
   ],
   "source": [
    "df.info()"
   ]
  },
  {
   "cell_type": "markdown",
   "metadata": {},
   "source": [
    "### 💾 Save the Bronze Layer as Parquet"
   ]
  },
  {
   "cell_type": "code",
   "execution_count": 10,
   "metadata": {},
   "outputs": [],
   "source": [
    "df.to_parquet('./Medallion Architecture/Bronze/Bronze.parquet', index=False)"
   ]
  }
 ],
 "metadata": {
  "kernelspec": {
   "display_name": "NewEnv",
   "language": "python",
   "name": "python3"
  },
  "language_info": {
   "codemirror_mode": {
    "name": "ipython",
    "version": 3
   },
   "file_extension": ".py",
   "mimetype": "text/x-python",
   "name": "python",
   "nbconvert_exporter": "python",
   "pygments_lexer": "ipython3",
   "version": "3.7.12"
  }
 },
 "nbformat": 4,
 "nbformat_minor": 2
}
